{
  "nbformat": 4,
  "nbformat_minor": 0,
  "metadata": {
    "colab": {
      "provenance": []
    },
    "kernelspec": {
      "name": "python3",
      "display_name": "Python 3"
    },
    "language_info": {
      "name": "python"
    }
  },
  "cells": [
    {
      "cell_type": "code",
      "execution_count": 1,
      "metadata": {
        "colab": {
          "base_uri": "https://localhost:8080/"
        },
        "id": "RmGq0W-rUe2Q",
        "outputId": "1a3d54cc-784b-4953-844d-b75be26f52c0"
      },
      "outputs": [
        {
          "output_type": "stream",
          "name": "stdout",
          "text": [
            "Requirement already satisfied: youtube-transcript-api in /usr/local/lib/python3.11/dist-packages (1.0.1)\n",
            "Requirement already satisfied: pytube in /usr/local/lib/python3.11/dist-packages (15.0.0)\n",
            "Requirement already satisfied: defusedxml<0.8.0,>=0.7.1 in /usr/local/lib/python3.11/dist-packages (from youtube-transcript-api) (0.7.1)\n",
            "Requirement already satisfied: requests in /usr/local/lib/python3.11/dist-packages (from youtube-transcript-api) (2.32.3)\n",
            "Requirement already satisfied: charset-normalizer<4,>=2 in /usr/local/lib/python3.11/dist-packages (from requests->youtube-transcript-api) (3.4.1)\n",
            "Requirement already satisfied: idna<4,>=2.5 in /usr/local/lib/python3.11/dist-packages (from requests->youtube-transcript-api) (3.10)\n",
            "Requirement already satisfied: urllib3<3,>=1.21.1 in /usr/local/lib/python3.11/dist-packages (from requests->youtube-transcript-api) (2.3.0)\n",
            "Requirement already satisfied: certifi>=2017.4.17 in /usr/local/lib/python3.11/dist-packages (from requests->youtube-transcript-api) (2025.1.31)\n"
          ]
        }
      ],
      "source": [
        "!pip install youtube-transcript-api pytube"
      ]
    },
    {
      "cell_type": "code",
      "source": [
        "from youtube_transcript_api import YouTubeTranscriptApi\n",
        "def get_youtube_transcript(video_url):\n",
        "    \"\"\"Fetches the transcript of a YouTube video.\"\"\"\n",
        "    video_id = video_url.split(\"v=\")[1].split(\"&\")[0]  # Extract video ID\n",
        "    transcript = YouTubeTranscriptApi.get_transcript(video_id)\n",
        "    full_text = \" \".join([t[\"text\"] for t in transcript])\n",
        "    return full_text\n",
        "# Example Usage\n",
        "video_url = \"https://www.youtube.com/watch?v=unYDoA8QGH0&list=PLWEpztHwA4ZT2QlHC74oIz4MsawcvE-QX\"\n",
        "video_transcript = get_youtube_transcript(video_url)\n",
        "print(\"Transcript:\\n\", video_transcript[:500])  # Show first 500 characters"
      ],
      "metadata": {
        "colab": {
          "base_uri": "https://localhost:8080/"
        },
        "id": "T1J3_aeXUoNq",
        "outputId": "23352cfd-a568-4714-8f2f-98819109e90b"
      },
      "execution_count": 2,
      "outputs": [
        {
          "output_type": "stream",
          "name": "stdout",
          "text": [
            "Transcript:\n",
            " hi guys today I'm going to introduce you what is machine learning uh these are my presentation content what is machine learning what are the different applications of machine learning different types of machine learning and how to build a machine learning system or model then various kinds of algorithms and later on in this series we are going to take a Hands-On you know case studies or doing programming for various kinds of up algorithms so what is machine learning so machine learning is nothin\n"
          ]
        }
      ]
    },
    {
      "cell_type": "code",
      "source": [
        "# Configure Gemini API\n",
        "import google.generativeai as genai\n",
        "from google.colab import userdata\n",
        "GOOGLE_API_KEY=userdata.get('GOOGLE_API_KEY')\n",
        "genai.configure(api_key=GOOGLE_API_KEY)"
      ],
      "metadata": {
        "id": "AFiw-hgoVLXx"
      },
      "execution_count": 3,
      "outputs": []
    },
    {
      "cell_type": "code",
      "source": [
        "def summarize_video(text):\n",
        "    \"\"\"Summarizes the YouTube video transcript using Gemini AI.\"\"\"\n",
        "    model = genai.GenerativeModel(\"gemini-1.5-flash\")\n",
        "    prompt = f\"Summarize the following YouTube video transcript:\\n\\n{text}\"\n",
        "    response = model.generate_content(prompt)\n",
        "    return response.text\n",
        "summary = summarize_video(video_transcript)\n",
        "print(\"Summary:\\n\", summary)"
      ],
      "metadata": {
        "colab": {
          "base_uri": "https://localhost:8080/",
          "height": 89
        },
        "id": "ciTaBysUWDgy",
        "outputId": "5193c34e-d887-4108-d8f9-87b1eedf17dc"
      },
      "execution_count": 4,
      "outputs": [
        {
          "output_type": "stream",
          "name": "stdout",
          "text": [
            "Summary:\n",
            " This YouTube video provides an introduction to machine learning.  The presenter covers the definition of machine learning (learning from data to make predictions), its various applications (speech recognition, web search, recommendation systems, computer vision, fraud detection, etc.), and the three main types of machine learning: supervised, unsupervised, and reinforcement learning.  Supervised learning uses labeled data to predict outcomes (classification for categorical data, regression for continuous data), unsupervised learning explores unlabeled data to find structure (clustering, dimensionality reduction), and reinforcement learning involves an agent learning through trial and error and rewards/penalties.  The video also outlines the process of building a machine learning model, including data preprocessing (cleaning, scaling, encoding, feature selection), algorithm selection, model building, and evaluation.  The presenter promises future videos with hands-on case studies and algorithm implementations.\n",
            "\n"
          ]
        }
      ]
    },
    {
      "cell_type": "markdown",
      "source": [
        "**Extract Key Insights From Video**"
      ],
      "metadata": {
        "id": "Ysf3ta9JWuK_"
      }
    },
    {
      "cell_type": "code",
      "source": [
        "def extract_video_insights(text):\n",
        "    \"\"\"Extracts key insights from the YouTube video transcript.\"\"\"\n",
        "    model = genai.GenerativeModel('gemini-1.5-flash')\n",
        "    prompt = f\"Extract the key takeaways and insights from this YouTube video:\\n\\n{text}\"\n",
        "    response = model.generate_content(prompt)\n",
        "    return response.text\n",
        "insights = extract_video_insights(video_transcript)\n",
        "print(\"Key Insights:\\n\", insights)"
      ],
      "metadata": {
        "colab": {
          "base_uri": "https://localhost:8080/",
          "height": 1000
        },
        "id": "Kw_LueAtWUj4",
        "outputId": "ba91c7ee-7079-4657-b20e-c51fefb30004"
      },
      "execution_count": 5,
      "outputs": [
        {
          "output_type": "stream",
          "name": "stdout",
          "text": [
            "Key Insights:\n",
            " This YouTube video provides an introduction to machine learning. Here are the key takeaways and insights:\n",
            "\n",
            "**What is Machine Learning?**\n",
            "\n",
            "* **Core Concept:** Machine learning is about learning from data.  It's a subfield of artificial intelligence that allows systems to learn from data without explicit programming.  Data is considered \"training data\" or \"experience.\"\n",
            "* **The Process:**  Machine learning involves applying algorithms to training data to build a model. This model then makes predictions about future events.\n",
            "* **Arthur Samuel's Definition:** A field of study that gives computers the ability to learn without being explicitly programmed.\n",
            "* **Formal Definition:** A computer program is said to learn from experience (E) with respect to some task (T) and performance measure (P), if its performance at T, as measured by P, improves with experience E.\n",
            "\n",
            "\n",
            "**Applications of Machine Learning:**\n",
            "\n",
            "The video highlights a wide range of applications, demonstrating the versatility of machine learning:\n",
            "\n",
            "* **Speech Recognition:**  Powering virtual assistants like Siri and Google Assistant.\n",
            "* **Web Search Systems:** Enhancing search engine results using algorithms like Naive Bayes.\n",
            "* **Recommendation Systems:** Suggesting products or content based on user behavior.\n",
            "* **Computer Vision:** Enabling computers to \"see\" and understand images and videos.\n",
            "* **Information Retrieval:** Improving the efficiency and accuracy of document searching (e.g., Google search).\n",
            "* **Fraud Detection:** Identifying malicious activities online.\n",
            "\n",
            "\n",
            "**Types of Machine Learning:**\n",
            "\n",
            "The video categorizes machine learning into three main types:\n",
            "\n",
            "* **Supervised Learning:** The algorithm learns from labeled data where the desired outcome is known.  This is further divided into:\n",
            "    * **Classification:** Predicting a categorical outcome (e.g., spam/not spam).\n",
            "    * **Regression:** Predicting a continuous outcome (e.g., house price).\n",
            "* **Unsupervised Learning:** The algorithm learns from unlabeled data, identifying patterns and structures within the data. Examples include clustering and dimensionality reduction.\n",
            "* **Reinforcement Learning:** An agent learns through trial and error in an environment, receiving rewards or penalties for its actions.  This is common in game AI and robotics.\n",
            "\n",
            "\n",
            "**Building a Machine Learning Model (Workflow):**\n",
            "\n",
            "The video outlines a typical process for building a machine learning model:\n",
            "\n",
            "1. **Data Preprocessing:** Cleaning, scaling, encoding, and selecting relevant features from the raw data.\n",
            "2. **Algorithm Selection:** Choosing an appropriate algorithm based on the problem type (classification, regression, etc.).\n",
            "3. **Model Building:** Applying the chosen algorithm to the preprocessed data to create a predictive model.\n",
            "4. **Model Evaluation:** Assessing the model's accuracy and performance using various metrics.\n",
            "\n",
            "\n",
            "**Key Terms:**\n",
            "\n",
            "The video emphasizes understanding key terminology, including:\n",
            "\n",
            "* **Features/Attributes:** Columns in the dataset (excluding the target variable).\n",
            "* **Target Variable/Response Variable:** The column to be predicted.\n",
            "* **Samples/Instances/Observations:** Rows in the dataset.\n",
            "* **Data Preprocessing:** Cleaning and preparing the data for model training.\n",
            "* **Feature Scaling:** Normalizing or standardizing feature values.\n",
            "* **Encoding:** Converting categorical features into numerical representations.\n",
            "* **Discretization:** Converting numerical features into categorical ones.\n",
            "* **Feature Selection:** Choosing the most relevant features.\n",
            "* **Dimensionality Reduction:** Reducing the number of features.\n",
            "\n",
            "\n",
            "**Next Steps:**\n",
            "\n",
            "The video presenter indicates that future videos will cover practical implementation of various algorithms and case studies.\n",
            "\n"
          ]
        }
      ]
    },
    {
      "cell_type": "markdown",
      "source": [
        "**Ask Questions About the Video**"
      ],
      "metadata": {
        "id": "xaT9w407XpiI"
      }
    },
    {
      "cell_type": "code",
      "source": [
        "def ask_question_about_video(text, question):\n",
        "    \"\"\"Answers user questions about the YouTube video content.\"\"\"\n",
        "    model = genai.GenerativeModel(\"gemini-1.5-flash\")\n",
        "    prompt = f\"The following is a YouTube video transcript:\\n\\n{text}\\n\\nAnswer this question based on the content:\\n{question}\"\n",
        "    response = model.generate_content(prompt)\n",
        "    return response.text\n",
        "question = \"What is the main topic discussed in the video?\"\n",
        "answer = ask_question_about_video(video_transcript, question)\n",
        "print(\"Answer:\\n\", answer)"
      ],
      "metadata": {
        "colab": {
          "base_uri": "https://localhost:8080/",
          "height": 89
        },
        "id": "XwKX4gcRW7gY",
        "outputId": "881dc2eb-0682-42c9-efc5-8f84dcc9bbf6"
      },
      "execution_count": 6,
      "outputs": [
        {
          "output_type": "stream",
          "name": "stdout",
          "text": [
            "Answer:\n",
            " The main topic of the video is an introduction to machine learning.  The speaker covers what machine learning is, its various applications, different types of machine learning (supervised, unsupervised, and reinforcement learning), how to build a machine learning model (including data preprocessing steps), and commonly used algorithms.  The video sets the stage for future, more hands-on sessions focusing on specific algorithms and case studies.\n",
            "\n"
          ]
        }
      ]
    },
    {
      "cell_type": "markdown",
      "source": [
        "**Detect Sentiment of Video Content**"
      ],
      "metadata": {
        "id": "p59hzRS6YHd_"
      }
    },
    {
      "cell_type": "code",
      "source": [
        "def analyze_sentiment(text):\n",
        "    \"\"\"Performs sentiment analysis on the YouTube video transcript.\"\"\"\n",
        "    model = genai.GenerativeModel(\"gemini-1.5-flash\")\n",
        "    prompt = f\"Analyze the sentiment of this YouTube video transcript. Is it positive, negative, or neutral?\\n\\n{text}\"\n",
        "    response = model.generate_content(prompt)\n",
        "    return response.text\n",
        "sentiment = analyze_sentiment(video_transcript)\n",
        "print(\"Sentiment Analysis:\\n\", sentiment)"
      ],
      "metadata": {
        "colab": {
          "base_uri": "https://localhost:8080/",
          "height": 89
        },
        "id": "QTy66Dk1X1QJ",
        "outputId": "dad1b09e-480e-4681-bc42-2efca695fdfd"
      },
      "execution_count": 7,
      "outputs": [
        {
          "output_type": "stream",
          "name": "stdout",
          "text": [
            "Sentiment Analysis:\n",
            " The sentiment of the YouTube video transcript is overwhelmingly **positive**.  The presenter expresses enthusiasm for the topic of machine learning, uses encouraging language (\"hi guys,\" \"you can,\" \"simply\"), and conveys a sense of empowerment through learning.  The tone is instructional and helpful, aiming to guide the viewer through complex concepts in an approachable way.  While there's no overt expression of strong positive emotion (like joy or excitement), the overall message is optimistic and encouraging about the potential of machine learning.  The neutral sections are simply explanatory, serving to build the positive message of the potential and accessibility of machine learning.\n",
            "\n"
          ]
        }
      ]
    },
    {
      "cell_type": "code",
      "source": [],
      "metadata": {
        "id": "Ac4lTfU3Ym1Q"
      },
      "execution_count": null,
      "outputs": []
    }
  ]
}