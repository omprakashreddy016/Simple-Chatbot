{
  "nbformat": 4,
  "nbformat_minor": 0,
  "metadata": {
    "colab": {
      "provenance": []
    },
    "kernelspec": {
      "name": "python3",
      "display_name": "Python 3"
    },
    "language_info": {
      "name": "python"
    }
  },
  "cells": [
    {
      "cell_type": "code",
      "execution_count": 1,
      "metadata": {
        "id": "8zqIAr8sXfio"
      },
      "outputs": [],
      "source": [
        "import google.generativeai as genai\n",
        "from google.colab import userdata\n",
        "\n",
        "GOOGLE_API_KEY=userdata.get('GOOGLE_API_KEY')\n",
        "genai.configure(api_key=GOOGLE_API_KEY)"
      ]
    },
    {
      "cell_type": "code",
      "source": [
        "from google import genai\n",
        "from google.genai import types\n",
        "client=genai.Client(api_key=GOOGLE_API_KEY)\n"
      ],
      "metadata": {
        "id": "ynHydyEwZCU7"
      },
      "execution_count": 2,
      "outputs": []
    },
    {
      "cell_type": "code",
      "source": [
        "import pathlib\n",
        "import textwrap\n",
        "\n",
        "from IPython.display import display, Markdown\n",
        "\n",
        "def to_markdown(text):\n",
        "    text = text.replace('*', ' - ')\n",
        "    return Markdown(textwrap.indent(text, '> ', predicate=lambda _: True))"
      ],
      "metadata": {
        "id": "qr8fslqQZHG7"
      },
      "execution_count": 3,
      "outputs": []
    },
    {
      "cell_type": "code",
      "source": [
        "import PIL.Image\n",
        "import google.generativeai as genai\n",
        "\n",
        "img = PIL.Image.open('image1.jpg')\n",
        "img\n",
        "model = genai.GenerativeModel('gemini-1.5-flash')\n",
        "response = model.generate_content([\"Write a short, engaging post based on this picture. It should include a description of the photo and talk about picture.\", img],stream=True)\n",
        "response.resolve()"
      ],
      "metadata": {
        "id": "166Qjd_6ZYOL"
      },
      "execution_count": 4,
      "outputs": []
    },
    {
      "cell_type": "code",
      "source": [
        "to_markdown(response.text)"
      ],
      "metadata": {
        "colab": {
          "base_uri": "https://localhost:8080/",
          "height": 446
        },
        "id": "WLidzUPTcHEc",
        "outputId": "cd521e11-8d26-4c09-a1b7-c5d8418ed0de"
      },
      "execution_count": 5,
      "outputs": [
        {
          "output_type": "execute_result",
          "data": {
            "text/plain": [
              "<IPython.core.display.Markdown object>"
            ],
            "text/markdown": "> Here's a short, engaging social media post based on the image:\n> \n>  -  - Option 1 (Focus on Convenience): -  - \n> \n> \"Meal prep goals! ✨  These delicious and healthy chicken and broccoli bowls are ready to go for the week.  Who needs takeout when you can have this much flavor and convenience? #mealprep #healthyfood #chickendinner #easyrecipes #lunchideas\"\n> \n> \n>  -  - Option 2 (Focus on Health): -  - \n> \n> \"Fuel your body right! 💪 These vibrant chicken and veggie bowls are packed with protein and nutrients.  Broccoli, carrots, and tender chicken over fluffy rice – the perfect balance of flavor and goodness!  What are your favorite healthy meal prep ideas? #healthylifestyle #cleaneating #fitfood #nutrition #mealprepsunday\"\n> \n> \n>  -  - Option 3 (More playful tone): -  - \n> \n> \"Lunchbox perfection! 🤩  These chicken and broccoli bowls are seriously drool-worthy.  The vibrant colors alone make me happy!  What's your go-to lunch?  Let's compare notes! 👇 #lunchtime #foodie #healthymeals #instafood #delicious\"\n> \n> \n>  -  - Option 4 (Question-based): -  - \n> \n> \"Two bowls of healthy happiness! 😍 Which one would you choose?  Left or right?  These chicken and veggie bowls are perfect for a quick and nutritious lunch or dinner.  #mealprepping #healthychoices #foodiesofinstagram #chickenrecipes #whattoeat\"\n> \n> \n> Remember to choose the option that best suits your intended audience and platform.  You can also add details about the recipe if you're comfortable sharing.\n"
          },
          "metadata": {},
          "execution_count": 5
        }
      ]
    },
    {
      "cell_type": "code",
      "source": [
        "response=model.generate_content([\"generate an accurate captiion for this image.\",img])\n",
        "print(response.text)"
      ],
      "metadata": {
        "colab": {
          "base_uri": "https://localhost:8080/",
          "height": 413
        },
        "id": "NLvhb-AzeZvR",
        "outputId": "6743e6db-d6ae-4932-979b-1274ce841ea0"
      },
      "execution_count": 6,
      "outputs": [
        {
          "output_type": "stream",
          "name": "stdout",
          "text": [
            "Here are a few caption options for the image:\n",
            "\n",
            "**Option 1 (Simple & Descriptive):**\n",
            "\n",
            "> Healthy and delicious meal prep!  Chicken and broccoli with rice.\n",
            "\n",
            "**Option 2 (More Engaging):**\n",
            "\n",
            "> Lunch goals!  These chicken and veggie bowls are packed with flavor and ready to go.  #mealprep #healthyfood #lunchideas #cleaneating\n",
            "\n",
            "**Option 3 (Focus on Convenience):**\n",
            "\n",
            "> Easy weeknight dinners made simple with these prepped containers.  #mealprepsunday #healthylifestyle #convenientmeals\n",
            "\n",
            "**Option 4 (Slightly more formal):**\n",
            "\n",
            ">  A nutritious and visually appealing chicken and vegetable rice bowl, perfect for a healthy lunch or dinner.\n",
            "\n",
            "\n",
            "Choose the caption that best suits your intended audience and platform.\n",
            "\n"
          ]
        }
      ]
    },
    {
      "cell_type": "code",
      "source": [
        "from PIL import Image\n",
        "image_path=\"girl.jpg\"\n",
        "image = Image.open(image_path)\n",
        "response = model.generate_content([\"Describe this image in detail.\",image])\n",
        "print(response.text)"
      ],
      "metadata": {
        "colab": {
          "base_uri": "https://localhost:8080/",
          "height": 305
        },
        "id": "SAqiwgSleroo",
        "outputId": "0692795e-42d8-441a-ab47-4df515effa87"
      },
      "execution_count": 8,
      "outputs": [
        {
          "output_type": "stream",
          "name": "stdout",
          "text": [
            "Here's a description of the image:\n",
            "\n",
            "Close-up view of a woman with shoulder-length, curly brown hair. \n",
            "\n",
            "\n",
            "Here's a breakdown of the details:\n",
            "\n",
            "* **The Woman:** She appears to be of South Asian descent, with dark brown eyes and a warm complexion. She's smiling and has her right index finger pointing towards something off-camera, suggesting she's directing attention or making a point. Her expression is friendly and engaging.\n",
            "\n",
            "* **Her Attire:** She's wearing a teal-colored three-quarter sleeve top or tunic with a subtle, repeating gold print. The fabric looks relatively soft and possibly lightweight. The neckline is a modest, slightly open V-neck.\n",
            "\n",
            "* **The Setting:** The background is a plain, bright white, which keeps the focus entirely on the woman. \n",
            "\n",
            "* **Overall Impression:** The image projects a positive and approachable vibe. The woman looks confident and comfortable. The simple background and the woman's attire suggest a clean, possibly promotional or portrait-style photograph.\n",
            "\n"
          ]
        }
      ]
    },
    {
      "cell_type": "markdown",
      "source": [
        "**Detect Emotions in an Image**"
      ],
      "metadata": {
        "id": "0MxBunNLhVI4"
      }
    },
    {
      "cell_type": "code",
      "source": [
        "response=model.generate_content([\"what emotions can you detect in this image?\",image])\n",
        "print(response.text)"
      ],
      "metadata": {
        "colab": {
          "base_uri": "https://localhost:8080/",
          "height": 180
        },
        "id": "WhYDwHGhgYCx",
        "outputId": "30b4fbc5-f40d-43d5-8886-01d1a8e94948"
      },
      "execution_count": 9,
      "outputs": [
        {
          "output_type": "stream",
          "name": "stdout",
          "text": [
            "The woman in the image appears to be expressing a combination of emotions:\n",
            "\n",
            "* **Happiness/Positivity:** Her smile is genuine and bright, suggesting a positive emotional state.\n",
            "* **Helpfulness/Guidance:**  The gesture of pointing suggests she's trying to direct attention or offer assistance.  This implies helpfulness and a desire to share information.\n",
            "* **Confidence:** Her posture and direct gaze contribute to an overall impression of confidence.\n",
            "\n",
            "It's important to note that these are interpretations based on visual cues.  The exact nuances of her emotional state are impossible to definitively determine from a still image.\n",
            "\n"
          ]
        }
      ]
    },
    {
      "cell_type": "code",
      "source": [],
      "metadata": {
        "id": "c77cDledhnuJ"
      },
      "execution_count": null,
      "outputs": []
    }
  ]
}