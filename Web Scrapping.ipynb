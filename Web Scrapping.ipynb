{
 "cells": [
  {
   "cell_type": "code",
   "execution_count": 1,
   "id": "d7484f8d-711e-4b36-a3b7-693635f5b207",
   "metadata": {},
   "outputs": [
    {
     "name": "stdout",
     "output_type": "stream",
     "text": [
      "Requirement already satisfied: requests in c:\\users\\k.om prakash reddy\\anaconda\\lib\\site-packages (2.32.3)\n",
      "Requirement already satisfied: beautifulsoup4 in c:\\users\\k.om prakash reddy\\anaconda\\lib\\site-packages (4.12.3)\n",
      "Requirement already satisfied: charset-normalizer<4,>=2 in c:\\users\\k.om prakash reddy\\anaconda\\lib\\site-packages (from requests) (3.3.2)\n",
      "Requirement already satisfied: idna<4,>=2.5 in c:\\users\\k.om prakash reddy\\anaconda\\lib\\site-packages (from requests) (3.7)\n",
      "Requirement already satisfied: urllib3<3,>=1.21.1 in c:\\users\\k.om prakash reddy\\anaconda\\lib\\site-packages (from requests) (2.2.3)\n",
      "Requirement already satisfied: certifi>=2017.4.17 in c:\\users\\k.om prakash reddy\\anaconda\\lib\\site-packages (from requests) (2024.12.14)\n",
      "Requirement already satisfied: soupsieve>1.2 in c:\\users\\k.om prakash reddy\\anaconda\\lib\\site-packages (from beautifulsoup4) (2.5)\n"
     ]
    }
   ],
   "source": [
    "!pip install requests beautifulsoup4"
   ]
  },
  {
   "cell_type": "markdown",
   "id": "26aedb55-ee6b-4f7c-9ce7-b8847050d929",
   "metadata": {},
   "source": [
    "# Example 1:Scraping Quotes  from \"Quotes to Scrape\""
   ]
  },
  {
   "cell_type": "code",
   "execution_count": 2,
   "id": "ab1a431f-cbe3-4b89-8898-98ba7f7da991",
   "metadata": {},
   "outputs": [
    {
     "name": "stdout",
     "output_type": "stream",
     "text": [
      "1. \"“The world as we have created it is a process of our thinking. It cannot be changed without changing our thinking.”\" - Albert Einstein\n",
      "   Tags: change, deep-thoughts, thinking, world\n",
      "\n",
      "2. \"“It is our choices, Harry, that show what we truly are, far more than our abilities.”\" - J.K. Rowling\n",
      "   Tags: abilities, choices\n",
      "\n",
      "3. \"“There are only two ways to live your life. One is as though nothing is a miracle. The other is as though everything is a miracle.”\" - Albert Einstein\n",
      "   Tags: inspirational, life, live, miracle, miracles\n",
      "\n",
      "4. \"“The person, be it gentleman or lady, who has not pleasure in a good novel, must be intolerably stupid.”\" - Jane Austen\n",
      "   Tags: aliteracy, books, classic, humor\n",
      "\n",
      "5. \"“Imperfection is beauty, madness is genius and it's better to be absolutely ridiculous than absolutely boring.”\" - Marilyn Monroe\n",
      "   Tags: be-yourself, inspirational\n",
      "\n"
     ]
    }
   ],
   "source": [
    "import requests\n",
    "from bs4 import BeautifulSoup\n",
    "url = \"http://quotes.toscrape.com/\"\n",
    "response = requests.get(url)\n",
    "if response.status_code == 200:\n",
    "    soup = BeautifulSoup(response.text, 'html.parser')\n",
    "    quotes = soup.find_all(\"div\", class_=\"quote\")\n",
    "    for i, quote in enumerate(quotes[:5]):  # Get first 5 quotes\n",
    "        text = quote.find(\"span\", class_=\"text\").text  # Quote text\n",
    "        author = quote.find(\"small\", class_=\"author\").text  # Author name\n",
    "        tags = [tag.text for tag in quote.find_all(\"a\", class_=\"tag\")]  # List of tags\n",
    "        print(f\"{i+1}. \\\"{text}\\\" - {author}\")\n",
    "        print(f\"   Tags: {', '.join(tags)}\\n\")\n",
    "else:\n",
    "    print(f\"Failed to retrieve the webpage. Status Code: {response.status_code}\")"
   ]
  },
  {
   "cell_type": "markdown",
   "id": "f10c6ae4-b419-4f52-b6bb-89c0d934ef92",
   "metadata": {},
   "source": [
    "## Example 2:weather Data from Time and Date"
   ]
  },
  {
   "cell_type": "code",
   "execution_count": 3,
   "id": "a22830ac-aa36-43fc-86a9-f7c3358d4a37",
   "metadata": {},
   "outputs": [
    {
     "name": "stdout",
     "output_type": "stream",
     "text": [
      "Current Weather in Hyderabad: 28 °C | Haze.\n"
     ]
    }
   ],
   "source": [
    "import requests\n",
    "from bs4 import BeautifulSoup\n",
    "city = \"india/hyderabad\"\n",
    "url = f\"https://www.timeanddate.com/weather/{city}\"\n",
    "response = requests.get(url)\n",
    "soup = BeautifulSoup(response.text, 'html.parser')\n",
    "temp = soup.find(\"div\", class_=\"h2\").text.strip() if soup.find(\"div\", class_=\"h2\") else \"N/A\"\n",
    "desc = soup.find(\"p\").text.strip() if soup.find(\"p\") else \"N/A\"\n",
    "print(f\"Current Weather in Hyderabad: {temp} | {desc}\")"
   ]
  },
  {
   "cell_type": "markdown",
   "id": "fc4497f8-365f-4e4a-8e69-9021656eaf45",
   "metadata": {},
   "source": [
    "# Example 3:Scraping Product Prices from Amazon(Headers Required)"
   ]
  },
  {
   "cell_type": "code",
   "execution_count": 6,
   "id": "f6e12a71-58ed-4295-bb68-437fb984a8e6",
   "metadata": {},
   "outputs": [
    {
     "name": "stdout",
     "output_type": "stream",
     "text": [
      "Product: Focus on what matters, block out the noise.\n",
      "Price: $1,299\n"
     ]
    }
   ],
   "source": [
    "import requests\n",
    "from bs4 import BeautifulSoup\n",
    "search_url = \"https://www.amazon.in/s?k=headphones+bluetooth+wireless&crid=2RHSCU4IJG0J&sprefix=head%2Caps%2C279&ref=nb_sb_ss_ts-doa-p_2_4\"\n",
    "headers = {\n",
    "    \"User-Agent\": \"Mozilla/5.0 (Windows NT 10.0; Win64; x64) AppleWebKit/537.36 (KHTML, like Gecko) Chrome/91.0.4472.124 Safari/537.36\"\n",
    "}\n",
    "response = requests.get(search_url, headers=headers)\n",
    "soup = BeautifulSoup(response.text, \"html.parser\")\n",
    "product = soup.select_one(\"span.a-size-medium\")\n",
    "price = soup.select_one(\"span.a-price-whole\")\n",
    "if product and price:\n",
    "    print(f\"Product: {product.text.strip()}\")\n",
    "    print(f\"Price: ${price.text.strip()}\")\n",
    "else:\n",
    "    print(\"Could not find product details.\")"
   ]
  },
  {
   "cell_type": "code",
   "execution_count": 8,
   "id": "349c2ee8-02b5-446c-b785-ed090b5a7d8d",
   "metadata": {},
   "outputs": [
    {
     "name": "stdout",
     "output_type": "stream",
     "text": [
      "Product: In stock\n",
      "Price: $2,499.\n"
     ]
    }
   ],
   "source": [
    "import requests\n",
    "from bs4 import BeautifulSoup\n",
    "search_url = \"https://www.amazon.in/Boult-Launched-Bluetooth-Headphones-Playtime/dp/B0DT9T945X/ref=sr_1_1_sspa?crid=2RHSCU4IJG0J&dib=eyJ2IjoiMSJ9.q2Kgg5xEYUB-dt5MqOHb4JhOXn7KG61Sg1qW2BuYx-Yo-1NWSRNAG7ZR-xl9fE77leNcizKDLJ2IlimXl4gH7eWFQATHZlebttXau17Iu7wNqnJ2Kv9MNdI1OBPK9UWSpZfxercK8Jhe_nFUFsBufYH9udPcl6vmjbORWAYfSpoqGdnGOcp9vZdRhkiIjeRyH6Fy-MbxTmCldHh1FoMvNKQU6tmWizp168-EK2LE-Lw.w7GqRKIRr9J-YuZGYdVZzL3jl60Ehw9KUDwJktbX3io&dib_tag=se&keywords=headphones+bluetooth+wireless&qid=1739853016&sprefix=head%2Caps%2C279&sr=8-1-spons&sp_csd=d2lkZ2V0TmFtZT1zcF9hdGY&psc=1\"\n",
    "headers = {\n",
    "    \"User-Agent\": \"Mozilla/5.0 (Windows NT 10.0; Win64; x64) AppleWebKit/537.36 (KHTML, like Gecko) Chrome/91.0.4472.124 Safari/537.36\"\n",
    "}\n",
    "response = requests.get(search_url, headers=headers)\n",
    "soup = BeautifulSoup(response.text, \"html.parser\")\n",
    "product = soup.select_one(\"span.a-size-medium\")\n",
    "price = soup.select_one(\"span.a-price-whole\")\n",
    "if product and price:\n",
    "    print(f\"Product: {product.text.strip()}\")\n",
    "    print(f\"Price: ${price.text.strip()}\")\n",
    "else:\n",
    "    print(\"Could not find product details.\")"
   ]
  },
  {
   "cell_type": "markdown",
   "id": "86373bda-a13d-4ac3-ab47-84a014f9e0c8",
   "metadata": {},
   "source": [
    "# Example 4:Scraping Wikipedia Tables"
   ]
  },
  {
   "cell_type": "code",
   "execution_count": 10,
   "id": "2f60c5af-52a0-4325-b0db-e3eb4c2faf27",
   "metadata": {},
   "outputs": [
    {
     "name": "stdout",
     "output_type": "stream",
     "text": [
      "World: 8,119,000,000\n",
      "China: 1,408,280,000\n",
      "1,402,737,000: 17.2%\n",
      "United States: 340,110,988\n",
      "Indonesia: 282,477,584\n"
     ]
    }
   ],
   "source": [
    "import requests\n",
    "from bs4 import BeautifulSoup\n",
    "url = \"https://en.wikipedia.org/wiki/List_of_countries_and_dependencies_by_population\"\n",
    "response = requests.get(url,headers=headers)\n",
    "soup = BeautifulSoup(response.text, \"html.parser\")\n",
    "table = soup.find(\"table\", class_=\"wikitable\")\n",
    "for row in table.find_all(\"tr\")[1:6]:  # Skip the header row\n",
    "    columns = row.find_all(\"td\")\n",
    "    country = columns[1].text.strip()\n",
    "    population = columns[2].text.strip()\n",
    "    print(f\"{country}: {population}\")"
   ]
  },
  {
   "cell_type": "code",
   "execution_count": 11,
   "id": "47abc331-3396-4b00-beec-f2af76f15fd2",
   "metadata": {},
   "outputs": [],
   "source": [
    "from IPython.display import display, HTML"
   ]
  },
  {
   "cell_type": "code",
   "execution_count": 12,
   "id": "16705515-dac1-4053-a8e2-a33dc9551536",
   "metadata": {},
   "outputs": [
    {
     "data": {
      "text/html": [
       "<table>\n",
       "  <tr>\n",
       "    <th>Company</th>\n",
       "    <th>Contact</th>\n",
       "    <th>Country</th>\n",
       "  </tr>\n",
       "  <tr>\n",
       "    <td>Alfreds Futterkiste</td>\n",
       "    <td>Maria Anders</td>\n",
       "    <td>Germany</td>\n",
       "  </tr>\n",
       "  <tr>\n",
       "    <td>Centro comercial Moctezuma</td>\n",
       "    <td>Francisco Chang</td>\n",
       "    <td>Mexico</td>\n",
       "  </tr>\n",
       "</table>\n"
      ],
      "text/plain": [
       "<IPython.core.display.HTML object>"
      ]
     },
     "metadata": {},
     "output_type": "display_data"
    }
   ],
   "source": [
    "display(HTML(\"\"\"<table>\n",
    "  <tr>\n",
    "    <th>Company</th>\n",
    "    <th>Contact</th>\n",
    "    <th>Country</th>\n",
    "  </tr>\n",
    "  <tr>\n",
    "    <td>Alfreds Futterkiste</td>\n",
    "    <td>Maria Anders</td>\n",
    "    <td>Germany</td>\n",
    "  </tr>\n",
    "  <tr>\n",
    "    <td>Centro comercial Moctezuma</td>\n",
    "    <td>Francisco Chang</td>\n",
    "    <td>Mexico</td>\n",
    "  </tr>\n",
    "</table>\n",
    "\"\"\"))"
   ]
  },
  {
   "cell_type": "code",
   "execution_count": null,
   "id": "9ef3a3d1-7e23-4e03-bee0-2b5c9151df0b",
   "metadata": {},
   "outputs": [],
   "source": []
  }
 ],
 "metadata": {
  "kernelspec": {
   "display_name": "Python 3 (ipykernel)",
   "language": "python",
   "name": "python3"
  },
  "language_info": {
   "codemirror_mode": {
    "name": "ipython",
    "version": 3
   },
   "file_extension": ".py",
   "mimetype": "text/x-python",
   "name": "python",
   "nbconvert_exporter": "python",
   "pygments_lexer": "ipython3",
   "version": "3.12.7"
  }
 },
 "nbformat": 4,
 "nbformat_minor": 5
}
